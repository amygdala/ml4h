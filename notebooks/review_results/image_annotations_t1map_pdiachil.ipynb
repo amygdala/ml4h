{
 "cells": [
  {
   "cell_type": "markdown",
   "metadata": {},
   "source": [
    "# (Required Imports)"
   ]
  },
  {
   "cell_type": "code",
   "execution_count": null,
   "metadata": {},
   "outputs": [],
   "source": [
    "# TODO(deflaux): remove this cell after gcr.io/broad-ml4cvd/deeplearning:tf2-latest-gpu has this preinstalled.\n",
    "from ml4h.runtime_data_defines import determine_runtime\n",
    "from ml4h.runtime_data_defines import Runtime\n",
    "\n",
    "if Runtime.ML4H_VM == determine_runtime():\n",
    "  !pip3 install --user ipycanvas==0.7.0 ipyannotations==0.2.1\n",
    "  !jupyter nbextension install --user --py ipycanvas\n",
    "  !jupyter nbextension enable --user --py ipycanvas\n",
    "  # Be sure to restart the kernel if pip installs anything.\n",
    "  # Also, shift-reload the browser page after the notebook extension installation."
   ]
  },
  {
   "cell_type": "markdown",
   "metadata": {},
   "source": [
    "# Restart kernel here !!!"
   ]
  },
  {
   "cell_type": "code",
   "execution_count": 1,
   "metadata": {},
   "outputs": [
    {
     "name": "stderr",
     "output_type": "stream",
     "text": [
      "/usr/local/lib/python3.6/dist-packages/ipykernel_launcher.py:9: FutureWarning: Passing a negative integer is deprecated in version 1.0 and will not be supported in future version. Instead, use None to not limit the column width.\n",
      "  if __name__ == '__main__':\n"
     ]
    }
   ],
   "source": [
    "from ipyannotations import BoxAnnotator, PointAnnotator, PolygonAnnotator\n",
    "from ipyannotations.images.annotator import Annotator\n",
    "from ml4h.visualization_tools.annotation_storage import DataFrameAnnotationStorage\n",
    "from ml4h.visualization_tools.annotations import T1MAPPointAnnotator\n",
    "from ml4h.visualization_tools.batch_image_annotations import BatchImageAnnotator\n",
    "import pandas as pd\n",
    "import tensorflow as tf\n",
    "\n",
    "pd.set_option('display.max_colwidth', -1)"
   ]
  },
  {
   "cell_type": "code",
   "execution_count": 2,
   "metadata": {
    "code_folding": []
   },
   "outputs": [
    {
     "data": {
      "application/javascript": [
       "// Display cell outputs to full height (no vertical scroll bar)\n",
       "IPython.OutputArea.auto_scroll_threshold = 9999;\n"
      ],
      "text/plain": [
       "<IPython.core.display.Javascript object>"
      ]
     },
     "metadata": {},
     "output_type": "display_data"
    }
   ],
   "source": [
    "%%javascript\n",
    "// Display cell outputs to full height (no vertical scroll bar)\n",
    "IPython.OutputArea.auto_scroll_threshold = 9999;"
   ]
  },
  {
   "cell_type": "markdown",
   "metadata": {},
   "source": [
    "# Define the batch of samples to annotate"
   ]
  },
  {
   "cell_type": "code",
   "execution_count": 3,
   "metadata": {},
   "outputs": [
    {
     "data": {
      "text/html": [
       "<div>\n",
       "<style scoped>\n",
       "    .dataframe tbody tr th:only-of-type {\n",
       "        vertical-align: middle;\n",
       "    }\n",
       "\n",
       "    .dataframe tbody tr th {\n",
       "        vertical-align: top;\n",
       "    }\n",
       "\n",
       "    .dataframe thead th {\n",
       "        text-align: right;\n",
       "    }\n",
       "</style>\n",
       "<table border=\"1\" class=\"dataframe\">\n",
       "  <thead>\n",
       "    <tr style=\"text-align: right;\">\n",
       "      <th></th>\n",
       "      <th>sample_id</th>\n",
       "      <th>tmap_name</th>\n",
       "      <th>instance_number</th>\n",
       "      <th>folder</th>\n",
       "    </tr>\n",
       "  </thead>\n",
       "  <tbody>\n",
       "    <tr>\n",
       "      <th>0</th>\n",
       "      <td>4754055</td>\n",
       "      <td>segmented</td>\n",
       "      <td>2</td>\n",
       "      <td>/home/pdiachil/projects/t1map/inference/inference_output</td>\n",
       "    </tr>\n",
       "    <tr>\n",
       "      <th>1</th>\n",
       "      <td>3677123</td>\n",
       "      <td>segmented</td>\n",
       "      <td>2</td>\n",
       "      <td>/home/pdiachil/projects/t1map/inference/inference_output</td>\n",
       "    </tr>\n",
       "    <tr>\n",
       "      <th>2</th>\n",
       "      <td>2342832</td>\n",
       "      <td>segmented</td>\n",
       "      <td>2</td>\n",
       "      <td>/home/pdiachil/projects/t1map/inference/inference_output</td>\n",
       "    </tr>\n",
       "    <tr>\n",
       "      <th>3</th>\n",
       "      <td>4775078</td>\n",
       "      <td>segmented</td>\n",
       "      <td>2</td>\n",
       "      <td>/home/pdiachil/projects/t1map/inference/inference_output</td>\n",
       "    </tr>\n",
       "    <tr>\n",
       "      <th>4</th>\n",
       "      <td>1176560</td>\n",
       "      <td>segmented</td>\n",
       "      <td>2</td>\n",
       "      <td>/home/pdiachil/projects/t1map/inference/inference_output</td>\n",
       "    </tr>\n",
       "    <tr>\n",
       "      <th>...</th>\n",
       "      <td>...</td>\n",
       "      <td>...</td>\n",
       "      <td>...</td>\n",
       "      <td>...</td>\n",
       "    </tr>\n",
       "    <tr>\n",
       "      <th>11365</th>\n",
       "      <td>2304541</td>\n",
       "      <td>segmented</td>\n",
       "      <td>2</td>\n",
       "      <td>/home/pdiachil/projects/t1map/inference/inference_output</td>\n",
       "    </tr>\n",
       "    <tr>\n",
       "      <th>11366</th>\n",
       "      <td>5535387</td>\n",
       "      <td>segmented</td>\n",
       "      <td>2</td>\n",
       "      <td>/home/pdiachil/projects/t1map/inference/inference_output</td>\n",
       "    </tr>\n",
       "    <tr>\n",
       "      <th>11367</th>\n",
       "      <td>1273968</td>\n",
       "      <td>segmented</td>\n",
       "      <td>2</td>\n",
       "      <td>/home/pdiachil/projects/t1map/inference/inference_output</td>\n",
       "    </tr>\n",
       "    <tr>\n",
       "      <th>11368</th>\n",
       "      <td>4911555</td>\n",
       "      <td>segmented</td>\n",
       "      <td>2</td>\n",
       "      <td>/home/pdiachil/projects/t1map/inference/inference_output</td>\n",
       "    </tr>\n",
       "    <tr>\n",
       "      <th>11369</th>\n",
       "      <td>1276996</td>\n",
       "      <td>segmented</td>\n",
       "      <td>2</td>\n",
       "      <td>/home/pdiachil/projects/t1map/inference/inference_output</td>\n",
       "    </tr>\n",
       "  </tbody>\n",
       "</table>\n",
       "<p>11370 rows × 4 columns</p>\n",
       "</div>"
      ],
      "text/plain": [
       "       sample_id  tmap_name  instance_number  \\\n",
       "0      4754055    segmented  2                 \n",
       "1      3677123    segmented  2                 \n",
       "2      2342832    segmented  2                 \n",
       "3      4775078    segmented  2                 \n",
       "4      1176560    segmented  2                 \n",
       "...        ...          ... ..                 \n",
       "11365  2304541    segmented  2                 \n",
       "11366  5535387    segmented  2                 \n",
       "11367  1273968    segmented  2                 \n",
       "11368  4911555    segmented  2                 \n",
       "11369  1276996    segmented  2                 \n",
       "\n",
       "                                                         folder  \n",
       "0      /home/pdiachil/projects/t1map/inference/inference_output  \n",
       "1      /home/pdiachil/projects/t1map/inference/inference_output  \n",
       "2      /home/pdiachil/projects/t1map/inference/inference_output  \n",
       "3      /home/pdiachil/projects/t1map/inference/inference_output  \n",
       "4      /home/pdiachil/projects/t1map/inference/inference_output  \n",
       "...                                                         ...  \n",
       "11365  /home/pdiachil/projects/t1map/inference/inference_output  \n",
       "11366  /home/pdiachil/projects/t1map/inference/inference_output  \n",
       "11367  /home/pdiachil/projects/t1map/inference/inference_output  \n",
       "11368  /home/pdiachil/projects/t1map/inference/inference_output  \n",
       "11369  /home/pdiachil/projects/t1map/inference/inference_output  \n",
       "\n",
       "[11370 rows x 4 columns]"
      ]
     },
     "execution_count": 3,
     "metadata": {},
     "output_type": "execute_result"
    }
   ],
   "source": [
    "USER = 'pdiachil'\n",
    "\n",
    "png_df = pd.read_csv(f'png_split_{USER}.csv')\n",
    "png_df"
   ]
  },
  {
   "cell_type": "markdown",
   "metadata": {},
   "source": [
    "### Use code below to eventually exclude images that you may have already annotated"
   ]
  },
  {
   "cell_type": "code",
   "execution_count": 4,
   "metadata": {},
   "outputs": [
    {
     "data": {
      "text/plain": [
       "['goodbad_t1map_inference_pdiachil_05_22_21_14_11_41.csv',\n",
       " 'goodbad_t1map_inference_pdiachil_05_22_21_14_15_50.csv',\n",
       " 'goodbad_t1map_inference_pdiachil_05_22_21_14_06_01.csv']"
      ]
     },
     "execution_count": 4,
     "metadata": {},
     "output_type": "execute_result"
    }
   ],
   "source": [
    "# List the dataframes already annotated by the user\n",
    "import glob\n",
    "annotated_by_user = glob.glob(f'goodbad_t1map_inference_{USER}*')\n",
    "annotated_by_user"
   ]
  },
  {
   "cell_type": "code",
   "execution_count": 5,
   "metadata": {},
   "outputs": [],
   "source": [
    "# If you want to exclude any of the images from the CSVs above, please add the filenames (separatedy by commas) \n",
    "# to the 'to_exclude' list\n",
    "to_exclude = [\n",
    "    'goodbad_t1map_inference_pdiachil_05_22_21_14_15_50.csv',\n",
    "    'goodbad_t1map_inference_pdiachil_05_22_21_14_06_01.csv'\n",
    "]"
   ]
  },
  {
   "cell_type": "code",
   "execution_count": 6,
   "metadata": {},
   "outputs": [
    {
     "data": {
      "text/html": [
       "<div>\n",
       "<style scoped>\n",
       "    .dataframe tbody tr th:only-of-type {\n",
       "        vertical-align: middle;\n",
       "    }\n",
       "\n",
       "    .dataframe tbody tr th {\n",
       "        vertical-align: top;\n",
       "    }\n",
       "\n",
       "    .dataframe thead th {\n",
       "        text-align: right;\n",
       "    }\n",
       "</style>\n",
       "<table border=\"1\" class=\"dataframe\">\n",
       "  <thead>\n",
       "    <tr style=\"text-align: right;\">\n",
       "      <th></th>\n",
       "      <th>sample_id</th>\n",
       "      <th>tmap_name</th>\n",
       "      <th>instance_number</th>\n",
       "      <th>folder</th>\n",
       "    </tr>\n",
       "  </thead>\n",
       "  <tbody>\n",
       "    <tr>\n",
       "      <th>0</th>\n",
       "      <td>3424227</td>\n",
       "      <td>segmented</td>\n",
       "      <td>2</td>\n",
       "      <td>/home/pdiachil/projects/t1map/inference/inference_output</td>\n",
       "    </tr>\n",
       "    <tr>\n",
       "      <th>1</th>\n",
       "      <td>2814467</td>\n",
       "      <td>segmented</td>\n",
       "      <td>2</td>\n",
       "      <td>/home/pdiachil/projects/t1map/inference/inference_output</td>\n",
       "    </tr>\n",
       "    <tr>\n",
       "      <th>2</th>\n",
       "      <td>3971630</td>\n",
       "      <td>segmented</td>\n",
       "      <td>2</td>\n",
       "      <td>/home/pdiachil/projects/t1map/inference/inference_output</td>\n",
       "    </tr>\n",
       "    <tr>\n",
       "      <th>3</th>\n",
       "      <td>2356531</td>\n",
       "      <td>segmented</td>\n",
       "      <td>2</td>\n",
       "      <td>/home/pdiachil/projects/t1map/inference/inference_output</td>\n",
       "    </tr>\n",
       "    <tr>\n",
       "      <th>4</th>\n",
       "      <td>4182789</td>\n",
       "      <td>segmented</td>\n",
       "      <td>2</td>\n",
       "      <td>/home/pdiachil/projects/t1map/inference/inference_output</td>\n",
       "    </tr>\n",
       "    <tr>\n",
       "      <th>...</th>\n",
       "      <td>...</td>\n",
       "      <td>...</td>\n",
       "      <td>...</td>\n",
       "      <td>...</td>\n",
       "    </tr>\n",
       "    <tr>\n",
       "      <th>11339</th>\n",
       "      <td>2304541</td>\n",
       "      <td>segmented</td>\n",
       "      <td>2</td>\n",
       "      <td>/home/pdiachil/projects/t1map/inference/inference_output</td>\n",
       "    </tr>\n",
       "    <tr>\n",
       "      <th>11340</th>\n",
       "      <td>5535387</td>\n",
       "      <td>segmented</td>\n",
       "      <td>2</td>\n",
       "      <td>/home/pdiachil/projects/t1map/inference/inference_output</td>\n",
       "    </tr>\n",
       "    <tr>\n",
       "      <th>11341</th>\n",
       "      <td>1273968</td>\n",
       "      <td>segmented</td>\n",
       "      <td>2</td>\n",
       "      <td>/home/pdiachil/projects/t1map/inference/inference_output</td>\n",
       "    </tr>\n",
       "    <tr>\n",
       "      <th>11342</th>\n",
       "      <td>4911555</td>\n",
       "      <td>segmented</td>\n",
       "      <td>2</td>\n",
       "      <td>/home/pdiachil/projects/t1map/inference/inference_output</td>\n",
       "    </tr>\n",
       "    <tr>\n",
       "      <th>11343</th>\n",
       "      <td>1276996</td>\n",
       "      <td>segmented</td>\n",
       "      <td>2</td>\n",
       "      <td>/home/pdiachil/projects/t1map/inference/inference_output</td>\n",
       "    </tr>\n",
       "  </tbody>\n",
       "</table>\n",
       "<p>11344 rows × 4 columns</p>\n",
       "</div>"
      ],
      "text/plain": [
       "       sample_id  tmap_name  instance_number  \\\n",
       "0      3424227    segmented  2                 \n",
       "1      2814467    segmented  2                 \n",
       "2      3971630    segmented  2                 \n",
       "3      2356531    segmented  2                 \n",
       "4      4182789    segmented  2                 \n",
       "...        ...          ... ..                 \n",
       "11339  2304541    segmented  2                 \n",
       "11340  5535387    segmented  2                 \n",
       "11341  1273968    segmented  2                 \n",
       "11342  4911555    segmented  2                 \n",
       "11343  1276996    segmented  2                 \n",
       "\n",
       "                                                         folder  \n",
       "0      /home/pdiachil/projects/t1map/inference/inference_output  \n",
       "1      /home/pdiachil/projects/t1map/inference/inference_output  \n",
       "2      /home/pdiachil/projects/t1map/inference/inference_output  \n",
       "3      /home/pdiachil/projects/t1map/inference/inference_output  \n",
       "4      /home/pdiachil/projects/t1map/inference/inference_output  \n",
       "...                                                         ...  \n",
       "11339  /home/pdiachil/projects/t1map/inference/inference_output  \n",
       "11340  /home/pdiachil/projects/t1map/inference/inference_output  \n",
       "11341  /home/pdiachil/projects/t1map/inference/inference_output  \n",
       "11342  /home/pdiachil/projects/t1map/inference/inference_output  \n",
       "11343  /home/pdiachil/projects/t1map/inference/inference_output  \n",
       "\n",
       "[11344 rows x 4 columns]"
      ]
     },
     "execution_count": 6,
     "metadata": {},
     "output_type": "execute_result"
    }
   ],
   "source": [
    "# Remove images in to_exclude\n",
    "for to_exclude_csv in to_exclude:\n",
    "    to_exclude_df = pd.read_csv(to_exclude_csv)\n",
    "    png_df = pd.merge(png_df, to_exclude_df[['sample_id', 'instance_number']], indicator=True, how='outer').query('_merge==\"left_only\"').drop('_merge', axis=1).reset_index(drop=True)\n",
    "png_df"
   ]
  },
  {
   "cell_type": "markdown",
   "metadata": {},
   "source": [
    "# Annotate the batch! "
   ]
  },
  {
   "cell_type": "code",
   "execution_count": 7,
   "metadata": {},
   "outputs": [
    {
     "data": {
      "application/vnd.jupyter.widget-view+json": {
       "model_id": "094f46ef1b594079936cd37b1e7db3b0",
       "version_major": 2,
       "version_minor": 0
      },
      "text/plain": [
       "VBox(children=(HTML(value='\\n        \\n      <style>\\n      table, th, td {\\n        border: 2px solid black;\\…"
      ]
     },
     "metadata": {},
     "output_type": "display_data"
    }
   ],
   "source": [
    "# Note: a zoom level of 1.0 displays the tensor as-is. For higher zoom levels, this code currently\n",
    "# use the PIL library to scale the image.\n",
    "import datetime\n",
    "\n",
    "output_filename = f'goodbad_t1map_inference_{USER}_{datetime.datetime.now().strftime(\"%m_%d_%y_%H_%M_%S\")}.csv'\n",
    "\n",
    "annotator = BatchImageAnnotator(samples=png_df,\n",
    "                                zoom=1.5,\n",
    "                                annotation_categories=['good', 'bad', 'review'],\n",
    "                                annotation_storage=DataFrameAnnotationStorage(output_filename),\n",
    "                                annotator=T1MAPPointAnnotator,\n",
    "                                user=USER\n",
    "                               )\n",
    "annotator.annotate_images()"
   ]
  },
  {
   "cell_type": "markdown",
   "metadata": {},
   "source": [
    "# View the stored annotations "
   ]
  },
  {
   "cell_type": "code",
   "execution_count": null,
   "metadata": {},
   "outputs": [],
   "source": [
    "annotator.view_recent_submissions(count=100)"
   ]
  },
  {
   "cell_type": "markdown",
   "metadata": {},
   "source": [
    "# Provenance"
   ]
  },
  {
   "cell_type": "code",
   "execution_count": null,
   "metadata": {},
   "outputs": [],
   "source": [
    "import datetime\n",
    "print(datetime.datetime.now())"
   ]
  },
  {
   "cell_type": "code",
   "execution_count": null,
   "metadata": {},
   "outputs": [],
   "source": [
    "%%bash\n",
    "pip3 freeze"
   ]
  },
  {
   "cell_type": "code",
   "execution_count": null,
   "metadata": {},
   "outputs": [],
   "source": [
    "annotator.annotation_widget.data"
   ]
  },
  {
   "cell_type": "markdown",
   "metadata": {},
   "source": [
    "Questions about these particular notebooks? Join the discussion https://github.com/broadinstitute/ml4h/discussions."
   ]
  }
 ],
 "metadata": {
  "kernelspec": {
   "display_name": "Python 3",
   "language": "python",
   "name": "python3"
  },
  "language_info": {
   "codemirror_mode": {
    "name": "ipython",
    "version": 3
   },
   "file_extension": ".py",
   "mimetype": "text/x-python",
   "name": "python",
   "nbconvert_exporter": "python",
   "pygments_lexer": "ipython3",
   "version": "3.6.9"
  },
  "toc": {
   "base_numbering": 1,
   "nav_menu": {},
   "number_sections": true,
   "sideBar": true,
   "skip_h1_title": false,
   "title_cell": "Table of Contents",
   "title_sidebar": "Contents",
   "toc_cell": false,
   "toc_position": {
    "height": "calc(100% - 180px)",
    "left": "10px",
    "top": "150px",
    "width": "199px"
   },
   "toc_section_display": true,
   "toc_window_display": true
  }
 },
 "nbformat": 4,
 "nbformat_minor": 4
}
