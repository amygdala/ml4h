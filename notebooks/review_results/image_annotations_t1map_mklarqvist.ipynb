{
 "cells": [
  {
   "cell_type": "markdown",
   "metadata": {},
   "source": [
    "# (Required Imports)"
   ]
  },
  {
   "cell_type": "code",
   "execution_count": null,
   "metadata": {},
   "outputs": [],
   "source": [
    "# TODO(deflaux): remove this cell after gcr.io/broad-ml4cvd/deeplearning:tf2-latest-gpu has this preinstalled.\n",
    "from ml4h.runtime_data_defines import determine_runtime\n",
    "from ml4h.runtime_data_defines import Runtime\n",
    "\n",
    "if Runtime.ML4H_VM == determine_runtime():\n",
    "  !pip3 install --user ipycanvas==0.7.0 ipyannotations==0.2.1\n",
    "  !jupyter nbextension install --user --py ipycanvas\n",
    "  !jupyter nbextension enable --user --py ipycanvas\n",
    "  # Be sure to restart the kernel if pip installs anything.\n",
    "  # Also, shift-reload the browser page after the notebook extension installation."
   ]
  },
  {
   "cell_type": "markdown",
   "metadata": {},
   "source": [
    "# Restart kernel here !!!"
   ]
  },
  {
   "cell_type": "code",
   "execution_count": null,
   "metadata": {},
   "outputs": [],
   "source": [
    "from ipyannotations import BoxAnnotator, PointAnnotator, PolygonAnnotator\n",
    "from ipyannotations.images.annotator import Annotator\n",
    "from ml4h.visualization_tools.annotation_storage import DataFrameAnnotationStorage\n",
    "from ml4h.visualization_tools.annotations import T1MAPPointAnnotator\n",
    "from ml4h.visualization_tools.batch_image_annotations import BatchImageAnnotator\n",
    "import pandas as pd\n",
    "import tensorflow as tf\n",
    "\n",
    "pd.set_option('display.max_colwidth', -1)"
   ]
  },
  {
   "cell_type": "code",
   "execution_count": null,
   "metadata": {
    "code_folding": []
   },
   "outputs": [],
   "source": [
    "%%javascript\n",
    "// Display cell outputs to full height (no vertical scroll bar)\n",
    "IPython.OutputArea.auto_scroll_threshold = 9999;"
   ]
  },
  {
   "cell_type": "markdown",
   "metadata": {},
   "source": [
    "# Define the batch of samples to annotate"
   ]
  },
  {
   "cell_type": "code",
   "execution_count": null,
   "metadata": {},
   "outputs": [],
   "source": [
    "USER = 'mklarqvist'\n",
    "\n",
    "png_df = pd.read_csv(f'png_split_{USER}.csv')\n",
    "png_df"
   ]
  },
  {
   "cell_type": "markdown",
   "metadata": {},
   "source": [
    "### Use code below to eventually exclude images that you may have already annotated"
   ]
  },
  {
   "cell_type": "code",
   "execution_count": null,
   "metadata": {},
   "outputs": [],
   "source": [
    "# List the dataframes already annotated by the user\n",
    "import glob\n",
    "annotated_by_user = glob.glob(f'goodbad_t1map_inference_{USER}*')\n",
    "annotated_by_user"
   ]
  },
  {
   "cell_type": "code",
   "execution_count": null,
   "metadata": {},
   "outputs": [],
   "source": [
    "# If you want to exclude any of the images from the CSVs above, please add the filenames (separatedy by commas) \n",
    "# to the 'to_exclude' list\n",
    "to_exclude = [\n",
    "    \n",
    "]"
   ]
  },
  {
   "cell_type": "code",
   "execution_count": null,
   "metadata": {},
   "outputs": [],
   "source": [
    "# Remove images in to_exclude\n",
    "for to_exclude_csv in to_exclude:\n",
    "    to_exclude_df = pd.read_csv(to_exclude_csv)\n",
    "    png_df = pd.merge(png_df, to_exclude_df[['sample_id', 'instance_number']], indicator=True, how='outer').query('_merge==\"left_only\"').drop('_merge', axis=1).reset_index(drop=True)\n",
    "png_df"
   ]
  },
  {
   "cell_type": "markdown",
   "metadata": {},
   "source": [
    "# Annotate the batch! "
   ]
  },
  {
   "cell_type": "code",
   "execution_count": null,
   "metadata": {},
   "outputs": [],
   "source": [
    "# Note: a zoom level of 1.0 displays the tensor as-is. For higher zoom levels, this code currently\n",
    "# use the PIL library to scale the image.\n",
    "import datetime\n",
    "\n",
    "output_filename = f'goodbad_t1map_inference_{USER}_{datetime.datetime.now().strftime(\"%m_%d_%y_%H_%M_%S\")}.csv'\n",
    "\n",
    "annotator = BatchImageAnnotator(samples=png_df,\n",
    "                                zoom=1.5,\n",
    "                                annotation_categories=['good', 'bad', 'review'],\n",
    "                                annotation_storage=DataFrameAnnotationStorage(output_filename),\n",
    "                                annotator=T1MAPPointAnnotator,\n",
    "                                user=USER\n",
    "                               )\n",
    "annotator.annotate_images()"
   ]
  },
  {
   "cell_type": "markdown",
   "metadata": {},
   "source": [
    "# View the stored annotations "
   ]
  },
  {
   "cell_type": "code",
   "execution_count": null,
   "metadata": {},
   "outputs": [],
   "source": [
    "annotator.view_recent_submissions(count=100)"
   ]
  },
  {
   "cell_type": "markdown",
   "metadata": {},
   "source": [
    "# Provenance"
   ]
  },
  {
   "cell_type": "code",
   "execution_count": null,
   "metadata": {},
   "outputs": [],
   "source": [
    "import datetime\n",
    "print(datetime.datetime.now())"
   ]
  },
  {
   "cell_type": "code",
   "execution_count": null,
   "metadata": {},
   "outputs": [],
   "source": [
    "%%bash\n",
    "pip3 freeze"
   ]
  },
  {
   "cell_type": "code",
   "execution_count": null,
   "metadata": {},
   "outputs": [],
   "source": [
    "annotator.annotation_widget.data"
   ]
  },
  {
   "cell_type": "markdown",
   "metadata": {},
   "source": [
    "Questions about these particular notebooks? Join the discussion https://github.com/broadinstitute/ml4h/discussions."
   ]
  }
 ],
 "metadata": {
  "kernelspec": {
   "display_name": "Python 3",
   "language": "python",
   "name": "python3"
  },
  "language_info": {
   "codemirror_mode": {
    "name": "ipython",
    "version": 3
   },
   "file_extension": ".py",
   "mimetype": "text/x-python",
   "name": "python",
   "nbconvert_exporter": "python",
   "pygments_lexer": "ipython3",
   "version": "3.6.9"
  },
  "toc": {
   "base_numbering": 1,
   "nav_menu": {},
   "number_sections": true,
   "sideBar": true,
   "skip_h1_title": false,
   "title_cell": "Table of Contents",
   "title_sidebar": "Contents",
   "toc_cell": false,
   "toc_position": {
    "height": "calc(100% - 180px)",
    "left": "10px",
    "top": "150px",
    "width": "199px"
   },
   "toc_section_display": true,
   "toc_window_display": true
  }
 },
 "nbformat": 4,
 "nbformat_minor": 4
}
